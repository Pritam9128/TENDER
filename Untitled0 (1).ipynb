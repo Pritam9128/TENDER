{
  "nbformat": 4,
  "nbformat_minor": 0,
  "metadata": {
    "colab": {
      "provenance": []
    },
    "kernelspec": {
      "name": "python3",
      "display_name": "Python 3"
    },
    "language_info": {
      "name": "python"
    }
  },
  "cells": [
    {
      "cell_type": "markdown",
      "source": [
        "# TENDER DATA"
      ],
      "metadata": {
        "id": "AjDF_NtvIM5t"
      }
    },
    {
      "cell_type": "markdown",
      "source": [
        "Eligibility & Experience Documents\n",
        "Experience Certificate – Proof of manpower supply services for the last 3 years in Govt./PSU/Educational Institutes.\n",
        "\n",
        "Work Orders – Must have completed one of the following:\n",
        "\n",
        "One order of ₹6 Cr+\n",
        "\n",
        "Two orders of ₹3 Cr+\n",
        "\n",
        "Three orders of ₹2 Cr+\n",
        "\n",
        "Notarized Affidavit – Proof that the bidder is not blacklisted or involved in fraudulent activities.\n",
        "\n",
        "Financial Documents\n",
        "CA Audited Turnover Certificate – ₹50 Cr+ annual turnover in the last 3 financial years (2021-22, 2022-23, 2023-24).\n",
        "\n",
        "Audited Balance Sheet & Profit & Loss Statement – For the last 3 financial years.\n",
        "\n",
        "Income Tax Return (ITR) – For the last 3 financial years.\n",
        "\n",
        "CA Audited Net Worth Certificate – Minimum ₹5 Cr (500 Lakhs) with UDIN.\n",
        "\n",
        "Earnest Money Deposit (EMD) – ₹10 Lakhs in favor of Aryabhatta Knowledge University, Patna.\n",
        "\n",
        "Legal & Registration Documents\n",
        "Company Registration Certificate (ROC) – As Proprietorship/Partnership/Pvt Ltd/Ltd.\n",
        "\n",
        "Shops & Establishment Registration – Issued by Bihar Govt.\n",
        "\n",
        "Labour License – Minimum 200 employees.\n",
        "\n",
        "Character Certificate – For the Director/Proprietor.\n",
        "\n",
        "Statutory Compliance Documents\n",
        "ESIC Registration – Minimum 3,500 employees (last 3 months paid challan with ECR).\n",
        "\n",
        "EPF Registration – Minimum 3,500 employees (last 3 months proof).\n",
        "\n",
        "GST Registration – Bihar GST, current GST return & challan.\n",
        "\n",
        "ISO Certifications – Valid ISO 9001:2015, ISO 45001:2018, ISO 18788:2015, ISO 37500:2014 (certificates issued after tender publishing date not accepted)."
      ],
      "metadata": {
        "id": "i-wjye8nIRg4"
      }
    },
    {
      "cell_type": "code",
      "execution_count": null,
      "metadata": {
        "id": "QHWULIEPIKki"
      },
      "outputs": [],
      "source": []
    }
  ]
}